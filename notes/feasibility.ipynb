{
 "cells": [
  {
   "cell_type": "markdown",
   "metadata": {},
   "source": [
    "# Floating Lantern Feasibility\n",
    "\n",
    "This document outlines calculations for a buoyant lamp. The primary buoyancy should be provided by a lifting gas (H2 or He). The buoyant lamp is inspired by floating lamps that appear in many sci-fi stories. \n",
    "\n",
    "## Requirements/Goals\n",
    "\n",
    "* It can be built and operated without access to special materials\n",
    "* It should be quiet (i.e. not a drone)\n",
    "* It's designed to work at night or indoors (e.g. no solar heating load, low luminance)\n",
    "* It should be able to remain stationary in low velocity wind (less than 1m/s, TBD)\n",
    "* It can require physical balast (e.g. water) to accomodate coarse changes in ambient air pressure (e.g. by elevation); it may require a lower power lifting propeller to establish sufficient buoyancy"
   ]
  },
  {
   "cell_type": "markdown",
   "metadata": {},
   "source": [
    "## Lifting Body\n",
    "\n",
    "### Material & Physical Properties\n",
    "\n",
    "#### References\n",
    "1. [Lifting gas/Hydrogen](https://en.wikipedia.org/wiki/Lifting_gas#Hydrogen)\n",
    "2. [Hydrogen](https://en.wikipedia.org/wiki/Hydrogen)\n",
    "3. [Mylar film](https://dupontteijinfilms.us/wp-content/uploads/2017/01/Mylar_Physical_Properties.pdf)\n",
    "\n",
    "#### Notes\n",
    "* Working units are \"cgs\" for convenience of scale.\n",
    "* \"Mylar\" film (Al coated polyester?) density from kitchen scale measurement of a dollar store emergency blanket (e.g. like [this](https://www.mec.ca/en/product/0199-034/emergency-blanket?colour=NO_COLOUR) but half the price).\n",
    "* Tissue paper density also from the kitchen scale, product from the dollar store (e.g. for gift wrapping)."
   ]
  },
  {
   "cell_type": "code",
   "execution_count": 1,
   "metadata": {},
   "outputs": [
    {
     "data": {
      "text/html": [
       "<table>\n",
       "<thead>\n",
       "<tr><th>Material    </th><th style=\"text-align: right;\">  Density (@STP)</th><th>Units  </th></tr>\n",
       "</thead>\n",
       "<tbody>\n",
       "<tr><td>Dry air     </td><td style=\"text-align: right;\">          1.2900</td><td>g/L    </td></tr>\n",
       "<tr><td>H2          </td><td style=\"text-align: right;\">          0.0900</td><td>g/L    </td></tr>\n",
       "<tr><td>He          </td><td style=\"text-align: right;\">          0.1800</td><td>g/L    </td></tr>\n",
       "<tr><td>H20         </td><td style=\"text-align: right;\">       1000.0000</td><td>g/L    </td></tr>\n",
       "<tr><td>Mylar foil  </td><td style=\"text-align: right;\">          0.0016</td><td>g/cm2  </td></tr>\n",
       "<tr><td>Tissue paper</td><td style=\"text-align: right;\">          0.0014</td><td>g/cm2  </td></tr>\n",
       "</tbody>\n",
       "</table>"
      ],
      "text/plain": [
       "<IPython.core.display.HTML object>"
      ]
     },
     "metadata": {},
     "output_type": "display_data"
    }
   ],
   "source": [
    "import numpy as np\n",
    "import scipy.constants as cte\n",
    "import tabulate\n",
    "from IPython.display import HTML, display\n",
    "\n",
    "rho_air = 1.29          # g/L\n",
    "rho_h2 = 0.09           # g/L\n",
    "rho_he = 0.18           # g/L\n",
    "rhos_mylar = 1.634e-3   # g/cm2\n",
    "rhos_tissue = 1.414e-3  # g/cm2\n",
    "rho_h2o = 1000          # g/L\n",
    "rho_ss304 = 8           # g/cm3\n",
    "\n",
    "mat_props = [['Dry air', rho_air, 'g/L'], \n",
    "             ['H2', rho_h2, 'g/L'], \n",
    "             ['He', rho_he, 'g/L'], \n",
    "             ['H20', rho_h2o, 'g/L'],\n",
    "             ['Mylar foil', rhos_mylar, 'g/cm2'],\n",
    "             ['Tissue paper', rhos_tissue, 'g/cm2']]\n",
    "            \n",
    "display(HTML(tabulate.tabulate(mat_props, headers=['Material', 'Density (@STP)', 'Units'], floatfmt=\".4f\", tablefmt='html')))\n"
   ]
  },
  {
   "cell_type": "markdown",
   "metadata": {},
   "source": [
    "### Physical Equations\n",
    "\n",
    "#### Buoyant Force (Archimedes Principle)\n",
    "The buoyancy force $F_B = (\\rho_{f} - \\rho{b})gV$ where $V$ is the displaced volume of the fluid $f$. Equivalently,  \n",
    "$$\\begin{align*}\n",
    "F_B = mg &= (\\rho_{f} - \\rho_{b})gV \\\\\n",
    "\\to m &= (\\rho_{f} - \\rho_{b})V \\\\\n",
    "\\to V &= m(\\rho_{f} - \\rho_{b})^{-1}\n",
    "\\end{align*}$$\n",
    "which implies that a volume of gas $V$ is required to lift mass $m$\n",
    "\n",
    "#### Static Thrust\n",
    "The ideal static thrust of a propeller in relation to the applied power is\n",
    "$$\n",
    "T_{0} = \\left( 2\\rho S P^2 \\right)^{1/3}\\, \\mathrm{[N]}\n",
    "$$\n",
    "where $\\rho$ is the fluid (air) density, $S$ the area swept out by the propeller ($S=\\pi r_{prop}^2$), and $P$ the applied power from the motor. This formula assumes that the inlet flow velocity is zero and that the propeller is perfectly efficient (scale by some $\\eta$ to correct this).\n",
    "\n",
    "#### Drag\n",
    "The drag of a body depends on its \"reference area\" $A_{ref}$ (for simple convex solids, this is the projected cross-section orthogonal to the flow direction) and the coefficient of drag $c_d$:\n",
    "$$\n",
    "F_d = \\frac{1}{2}\\rho u^2 A_{ref} c_d\\, \\mathrm{[N]}\n",
    "$$\n",
    "where $\\rho$ is the fluid (air) density and $u$ is the fluid velocity. \n",
    "\n",
    "Some assorted drag coefficients can be found on [Wikipedia](https://en.wikipedia.org/wiki/Drag_coefficient). For this body, assume $A_ref$ is the rectangular projection of the upright cylinder ($A_{ref} = h\\times d$) and $c_d = 1.17$ (cylinder). "
   ]
  },
  {
   "cell_type": "markdown",
   "metadata": {},
   "source": [
    "### Balloon and Lantern Characteristics\n",
    "\n",
    "In this section, we tabulate the characteristics of a model lantern. The construction is assumed to consist of a cylindrical Mylar balloon as a core inside of a tissue paper lantern.\n",
    "\n",
    "* The cylinder shape is selected since it's reasonably easy to construct, offers the ability to trade off aspect ratio, and any shape with sharp corners (e.g. a cube) would probably look like a cylinder if made of flimsy plastic and inflated.\n",
    "* The offset of the lantern paper from the core balloon is a design parameter\n",
    "\n",
    "#### Design Parameters\n",
    "* Designed lifting force (mass g)\n",
    "* Cylinder radius (cm)\n",
    "* Lantern shell offset (cm)\n",
    "* Max wind speed (cm/s)"
   ]
  },
  {
   "cell_type": "code",
   "execution_count": 3,
   "metadata": {},
   "outputs": [
    {
     "name": "stdout",
     "output_type": "stream",
     "text": [
      "H2 Lantern Models\n"
     ]
    },
    {
     "data": {
      "text/html": [
       "<table>\n",
       "<thead>\n",
       "<tr><th>                </th><th style=\"text-align: right;\">   50.0g</th><th style=\"text-align: right;\">   60.0g</th><th style=\"text-align: right;\">    70.0g</th><th style=\"text-align: right;\">    80.0g</th><th style=\"text-align: right;\">    90.0g</th><th style=\"text-align: right;\">   100.0g</th></tr>\n",
       "</thead>\n",
       "<tbody>\n",
       "<tr><td>Volume (L)      </td><td style=\"text-align: right;\">  41.667</td><td style=\"text-align: right;\">  50.000</td><td style=\"text-align: right;\">   58.333</td><td style=\"text-align: right;\">   66.667</td><td style=\"text-align: right;\">   75.000</td><td style=\"text-align: right;\">   83.333</td></tr>\n",
       "<tr><td>H (cm)          </td><td style=\"text-align: right;\">  33.157</td><td style=\"text-align: right;\">  39.789</td><td style=\"text-align: right;\">   46.420</td><td style=\"text-align: right;\">   53.052</td><td style=\"text-align: right;\">   59.683</td><td style=\"text-align: right;\">   66.315</td></tr>\n",
       "<tr><td>S (cm2)         </td><td style=\"text-align: right;\">6679.941</td><td style=\"text-align: right;\">7513.274</td><td style=\"text-align: right;\"> 8346.607</td><td style=\"text-align: right;\"> 9179.941</td><td style=\"text-align: right;\">10013.274</td><td style=\"text-align: right;\">10846.607</td></tr>\n",
       "<tr><td>So (cm2)        </td><td style=\"text-align: right;\">8177.315</td><td style=\"text-align: right;\">9093.982</td><td style=\"text-align: right;\">10010.649</td><td style=\"text-align: right;\">10927.315</td><td style=\"text-align: right;\">11843.982</td><td style=\"text-align: right;\">12760.649</td></tr>\n",
       "<tr><td>Mylar mass (g)  </td><td style=\"text-align: right;\">  10.915</td><td style=\"text-align: right;\">  12.277</td><td style=\"text-align: right;\">   13.638</td><td style=\"text-align: right;\">   15.000</td><td style=\"text-align: right;\">   16.362</td><td style=\"text-align: right;\">   17.723</td></tr>\n",
       "<tr><td>Tissue mass (g) </td><td style=\"text-align: right;\">  11.563</td><td style=\"text-align: right;\">  12.859</td><td style=\"text-align: right;\">   14.155</td><td style=\"text-align: right;\">   15.451</td><td style=\"text-align: right;\">   16.747</td><td style=\"text-align: right;\">   18.044</td></tr>\n",
       "<tr><td>Payload cap. (g)</td><td style=\"text-align: right;\">  27.522</td><td style=\"text-align: right;\">  34.864</td><td style=\"text-align: right;\">   42.207</td><td style=\"text-align: right;\">   49.549</td><td style=\"text-align: right;\">   56.891</td><td style=\"text-align: right;\">   64.233</td></tr>\n",
       "<tr><td>Fd (N)          </td><td style=\"text-align: right;\">   0.123</td><td style=\"text-align: right;\">   0.145</td><td style=\"text-align: right;\">    0.167</td><td style=\"text-align: right;\">    0.189</td><td style=\"text-align: right;\">    0.211</td><td style=\"text-align: right;\">    0.233</td></tr>\n",
       "</tbody>\n",
       "</table>"
      ],
      "text/plain": [
       "<IPython.core.display.HTML object>"
      ]
     },
     "metadata": {},
     "output_type": "display_data"
    },
    {
     "name": "stdout",
     "output_type": "stream",
     "text": [
      "He Lantern Models\n"
     ]
    },
    {
     "data": {
      "text/html": [
       "<table>\n",
       "<thead>\n",
       "<tr><th>                </th><th style=\"text-align: right;\">   50.0g</th><th style=\"text-align: right;\">   60.0g</th><th style=\"text-align: right;\">    70.0g</th><th style=\"text-align: right;\">    80.0g</th><th style=\"text-align: right;\">    90.0g</th><th style=\"text-align: right;\">   100.0g</th></tr>\n",
       "</thead>\n",
       "<tbody>\n",
       "<tr><td>Volume (L)      </td><td style=\"text-align: right;\">  45.045</td><td style=\"text-align: right;\">  54.054</td><td style=\"text-align: right;\">   63.063</td><td style=\"text-align: right;\">   72.072</td><td style=\"text-align: right;\">   81.081</td><td style=\"text-align: right;\">   90.090</td></tr>\n",
       "<tr><td>H (cm)          </td><td style=\"text-align: right;\">  35.846</td><td style=\"text-align: right;\">  43.015</td><td style=\"text-align: right;\">   50.184</td><td style=\"text-align: right;\">   57.353</td><td style=\"text-align: right;\">   64.522</td><td style=\"text-align: right;\">   71.691</td></tr>\n",
       "<tr><td>S (cm2)         </td><td style=\"text-align: right;\">7017.779</td><td style=\"text-align: right;\">7918.680</td><td style=\"text-align: right;\"> 8819.580</td><td style=\"text-align: right;\"> 9720.481</td><td style=\"text-align: right;\">10621.382</td><td style=\"text-align: right;\">11522.283</td></tr>\n",
       "<tr><td>So (cm2)        </td><td style=\"text-align: right;\">8548.937</td><td style=\"text-align: right;\">9539.928</td><td style=\"text-align: right;\">10530.919</td><td style=\"text-align: right;\">11521.910</td><td style=\"text-align: right;\">12512.901</td><td style=\"text-align: right;\">13503.892</td></tr>\n",
       "<tr><td>Mylar mass (g)  </td><td style=\"text-align: right;\">  11.467</td><td style=\"text-align: right;\">  12.939</td><td style=\"text-align: right;\">   14.411</td><td style=\"text-align: right;\">   15.883</td><td style=\"text-align: right;\">   17.355</td><td style=\"text-align: right;\">   18.827</td></tr>\n",
       "<tr><td>Tissue mass (g) </td><td style=\"text-align: right;\">  12.088</td><td style=\"text-align: right;\">  13.489</td><td style=\"text-align: right;\">   14.891</td><td style=\"text-align: right;\">   16.292</td><td style=\"text-align: right;\">   17.693</td><td style=\"text-align: right;\">   19.095</td></tr>\n",
       "<tr><td>Payload cap. (g)</td><td style=\"text-align: right;\">  26.445</td><td style=\"text-align: right;\">  33.571</td><td style=\"text-align: right;\">   40.698</td><td style=\"text-align: right;\">   47.825</td><td style=\"text-align: right;\">   54.951</td><td style=\"text-align: right;\">   62.078</td></tr>\n",
       "<tr><td>Fd (N)          </td><td style=\"text-align: right;\">   0.132</td><td style=\"text-align: right;\">   0.156</td><td style=\"text-align: right;\">    0.180</td><td style=\"text-align: right;\">    0.204</td><td style=\"text-align: right;\">    0.228</td><td style=\"text-align: right;\">    0.251</td></tr>\n",
       "</tbody>\n",
       "</table>"
      ],
      "text/plain": [
       "<IPython.core.display.HTML object>"
      ]
     },
     "metadata": {},
     "output_type": "display_data"
    },
    {
     "name": "stdout",
     "output_type": "stream",
     "text": [
      "d_cyl=40cm | max(u_wind)=1.0m/s --> h_golden=67.24cm\n"
     ]
    }
   ],
   "source": [
    "cm3_per_L = 1000\n",
    "\n",
    "r_cyl = 20                          # cm\n",
    "lift_mass = np.linspace(50,100,6)   # g\n",
    "shell_offset = 2                    # cm\n",
    "u_wind_max = 100                    # cm/s\n",
    "\n",
    "class LanternModel:\n",
    "    prop_keys = ['Volume (L)', 'H (cm)', 'S (cm2)', 'So (cm2)', 'Mylar mass (g)', \n",
    "                 'Tissue mass (g)', 'Payload cap. (g)', 'Fd (N)']\n",
    "\n",
    "    def __init__(self, m_lift, gas_type, r_cyl, t_offset, u_wind):\n",
    "        self.c_d_cyl = 1.17\n",
    "\n",
    "        self.m_lift = m_lift\n",
    "        self.r_cyl = r_cyl\n",
    "        self.t_shell_offset = t_offset\n",
    "        self.u_wind = u_wind\n",
    "        \n",
    "        d_rho = rho_air     # g/L\n",
    "        if gas_type == \"H2\":\n",
    "            d_rho -= rho_h2\n",
    "        elif gas_type == \"He\":\n",
    "            d_rho -= rho_he\n",
    "        else:\n",
    "            raise ValueError(\"Invalid gas type {}\".format(gas_type))\n",
    "        \n",
    "        v_h2 = m_lift/d_rho                                     # L\n",
    "        h_cyl = v_h2*cm3_per_L / (np.pi * r_cyl**2)             # cm\n",
    "        S_cyl = h_cyl * (2 * np.pi * r_cyl) + 2*np.pi*r_cyl**2  # cm2\n",
    "        ho = h_cyl + 2*t_offset                 \n",
    "        ro = r_cyl + t_offset\n",
    "        So_cyl = ho * (2 * np.pi * ro) + 2*np.pi*ro**2          # cm2\n",
    "        m_mylar = rhos_mylar * S_cyl\n",
    "        m_tissue = rhos_tissue * So_cyl\n",
    "\n",
    "        self.prop_table = {}\n",
    "        self.prop_table[self.prop_keys[0]] = v_h2\n",
    "        self.prop_table[self.prop_keys[1]] = h_cyl\n",
    "        self.prop_table[self.prop_keys[2]] = S_cyl\n",
    "        self.prop_table[self.prop_keys[3]] = So_cyl\n",
    "        self.prop_table[self.prop_keys[4]] = m_mylar\n",
    "        self.prop_table[self.prop_keys[5]] = m_tissue\n",
    "        self.prop_table[self.prop_keys[6]] = self.payload_capacity()\n",
    "        self.prop_table[self.prop_keys[7]] = self.drag()\n",
    "\n",
    "    def __getitem__(self, key):\n",
    "        return self.prop_table[key]\n",
    "\n",
    "    def __setitem__(self, key, item):\n",
    "        if key not in self.prop_keys:\n",
    "            raise KeyError(\"Key not in allowed keys\")\n",
    "\n",
    "        self.prop_table[key] = item\n",
    "        self._invalidate_prop_table()\n",
    "\n",
    "    def drag(self):\n",
    "        ho = self.prop_table[self.prop_keys[1]] + 2*self.t_shell_offset                 \n",
    "        ro = self.r_cyl + self.t_shell_offset\n",
    "        Aref = ho * (2*ro)\n",
    "        return 0.5 * (rho_air / cm3_per_L) * self.u_wind**2 * Aref * self.c_d_cyl / 1000 / 100 # N\n",
    "\n",
    "    def payload_capacity(self):\n",
    "        return self.m_lift - self.prop_table[self.prop_keys[4]] - self.prop_table[self.prop_keys[5]]\n",
    "\n",
    "    def _invalidate_prop_table(self):\n",
    "        self.prop_table[self.prop_keys[6]] = self.payload_capacity()\n",
    "        self.prop_table[self.prop_keys[7]] = self.drag()\n",
    "\n",
    "\n",
    "lanterns = [LanternModel(ml, gas_type=\"H2\", r_cyl=r_cyl, t_offset=shell_offset, u_wind=u_wind_max) for ml in lift_mass]\n",
    "data_table = [[k] + [l[k] for l in lanterns] for k in LanternModel.prop_keys]\n",
    "print(\"H2 Lantern Models\")\n",
    "display(HTML(tabulate.tabulate(data_table, headers=[\"\"] + [\"{}g\".format(m) for m in lift_mass], floatfmt=\".3f\", tablefmt='html')))\n",
    "\n",
    "lanterns_he = [LanternModel(ml, gas_type=\"He\", r_cyl=r_cyl, t_offset=shell_offset, u_wind=u_wind_max) for ml in lift_mass]\n",
    "data_table_he = [[k] + [l[k] for l in lanterns_he] for k in LanternModel.prop_keys]\n",
    "print(\"He Lantern Models\")\n",
    "display(HTML(tabulate.tabulate(data_table_he, headers=[\"\"] + [\"{}g\".format(m) for m in lift_mass], floatfmt=\".3f\", tablefmt='html')))\n",
    "\n",
    "print(\"d_cyl={}cm | max(u_wind)={}m/s --> h_golden={:.2f}cm\".format(2*r_cyl, u_wind_max/100, 1.681*2*r_cyl))\n",
    "\n"
   ]
  },
  {
   "cell_type": "markdown",
   "metadata": {},
   "source": [
    "### Tissue Paper Frame\n",
    "\n",
    "A model paper lantern style is the cylindrical Japanese paper lantern. These look like they're constructed by layering strips of tissue or rice paper over a coiled wire frame. Hard stainless steel wire (e.g. 304) comes in various diameters. "
   ]
  },
  {
   "cell_type": "code",
   "execution_count": 4,
   "metadata": {},
   "outputs": [
    {
     "name": "stdout",
     "output_type": "stream",
     "text": [
      "0.50mm diameter SS wire: 1.5707963267948968 g/m\n",
      "5 rings with 44cm diameter: 6.911503837897545m (10.856564841198296g)\n"
     ]
    }
   ],
   "source": [
    "d_wire = 0.05                   # cm\n",
    "A_wire = 0.25*np.pi*d_wire**2   # cm2\n",
    "rhol_wire = rho_ss304*A_wire    # g/cm\n",
    "N_rings = 5\n",
    "L_rings = N_rings * np.pi * 44  # cm\n",
    "\n",
    "print(\"{:.2f}mm diameter SS wire: {} g/m\".format(d_wire*10, rhol_wire*100))\n",
    "print(\"{} rings with 44cm diameter: {}m ({}g)\".format(N_rings, L_rings/100, L_rings*rhol_wire))"
   ]
  },
  {
   "cell_type": "markdown",
   "metadata": {},
   "source": [
    "### Conclusions/Notes\n",
    "\n",
    "* For 100g gross lifting capacity (90g with He), a 40cm diameter cylindrical balloon gives a nice ratio to H\n",
    "* At 50% efficiency, two 75mm props will require about 3W input power each to overcome wind-induced drag\n",
    "    * Given a 3.7V 800mAh LiPo supply, current draw for 6W is 1.6A, equivalent to 30 mins run time\n",
    "    * May need to reduce wind limit (full power would also be noisy)\n",
    "* Tissue paper & frame can easily add to 30g+, more than a third of the mass budget for the 100g lift. It also needs a frame to support it -- might not be feasible."
   ]
  },
  {
   "cell_type": "code",
   "execution_count": 6,
   "metadata": {},
   "outputs": [
    {
     "name": "stdout",
     "output_type": "stream",
     "text": [
      "3.31W at 50.0% efficiency for 0.25N (25.5 g) thrust with a 75.0mm dia. prop\n"
     ]
    }
   ],
   "source": [
    "def static_thrust_power(T_out, d_prop, eta=1):\n",
    "    # T = cbrt(2*rho*S*P^2)\n",
    "    S = 0.25*np.pi*d_prop**2\n",
    "    return np.sqrt((T_out/eta)**3 / 2 / rho_air / S)\n",
    "\n",
    "Fd = 0.25       # N\n",
    "d_prop = 0.075  # m (3in = 76mm)\n",
    "eta = 0.5\n",
    "print(\"{:.2f}W at {}% efficiency for {}N ({:.1f} g) thrust with a {}mm dia. prop\".format(\n",
    "    static_thrust_power(Fd, d_prop, eta),\n",
    "    eta*100,\n",
    "    Fd,\n",
    "    Fd/cte.g*1000,\n",
    "    d_prop*1000))\n",
    "\n"
   ]
  },
  {
   "cell_type": "markdown",
   "metadata": {},
   "source": [
    "## Hydrogen Production\n",
    "\n",
    "### Electrolysis\n",
    "Generating hydrogen gas is planned from water with NaOH or KOH added as an electrolyte (H2 is collected at the cathode). \n",
    "\n",
    "#### Material Properties\n",
    "* Hydrogen $H_2$ molar mass $M_{H_2} = 2.016 \\mathrm{g/mol}$\n",
    "* Water $H_2 O$ molar mass $M_{H_2 O} = 18.016 \\mathrm{g/mol}$\n",
    "\n",
    "#### Reaction\n",
    "* cathode (reduction): $2H_2 O(l) + 2e^- \\to H_2(g) + 2OH^-(aq)$\n",
    "* anode (oxidation): $2OH^-(aq) \\to 1/2 O_2(g) + H_2 O(l) + 2e^-$\n",
    "\n",
    "#### Efficiency\n",
    "* A liter of $H_2$ at STP has mass $m_{H_2} = \\rho_{H_2}\\times 1\\mathrm{L}$\n",
    "* There are $m_{H_2}/M_{H_2}$ mols of $H_2$ per liter\n",
    "* Each mol of $H_2$ production requires 2 mols of electrons and 2 mols of $H_2 O$\n",
    "\n"
   ]
  },
  {
   "cell_type": "code",
   "execution_count": 6,
   "metadata": {},
   "outputs": [
    {
     "name": "stdout",
     "output_type": "stream",
     "text": [
      "1.609mL H2O required to produce 1L H2\n"
     ]
    },
    {
     "data": {
      "text/html": [
       "<table>\n",
       "<thead>\n",
       "<tr><th style=\"text-align: right;\">  I_DC (A)</th><th style=\"text-align: right;\">  T_1L (min)</th><th style=\"text-align: right;\">  T_90L (hrs)</th></tr>\n",
       "</thead>\n",
       "<tbody>\n",
       "<tr><td style=\"text-align: right;\">     1.000</td><td style=\"text-align: right;\">     143.639</td><td style=\"text-align: right;\">      215.458</td></tr>\n",
       "<tr><td style=\"text-align: right;\">     2.000</td><td style=\"text-align: right;\">      71.819</td><td style=\"text-align: right;\">      107.729</td></tr>\n",
       "<tr><td style=\"text-align: right;\">     3.000</td><td style=\"text-align: right;\">      47.880</td><td style=\"text-align: right;\">       71.819</td></tr>\n",
       "<tr><td style=\"text-align: right;\">     4.000</td><td style=\"text-align: right;\">      35.910</td><td style=\"text-align: right;\">       53.864</td></tr>\n",
       "<tr><td style=\"text-align: right;\">     5.000</td><td style=\"text-align: right;\">      28.728</td><td style=\"text-align: right;\">       43.092</td></tr>\n",
       "<tr><td style=\"text-align: right;\">     6.000</td><td style=\"text-align: right;\">      23.940</td><td style=\"text-align: right;\">       35.910</td></tr>\n",
       "<tr><td style=\"text-align: right;\">     7.000</td><td style=\"text-align: right;\">      20.520</td><td style=\"text-align: right;\">       30.780</td></tr>\n",
       "<tr><td style=\"text-align: right;\">     8.000</td><td style=\"text-align: right;\">      17.955</td><td style=\"text-align: right;\">       26.932</td></tr>\n",
       "<tr><td style=\"text-align: right;\">     9.000</td><td style=\"text-align: right;\">      15.960</td><td style=\"text-align: right;\">       23.940</td></tr>\n",
       "<tr><td style=\"text-align: right;\">    10.000</td><td style=\"text-align: right;\">      14.364</td><td style=\"text-align: right;\">       21.546</td></tr>\n",
       "</tbody>\n",
       "</table>"
      ],
      "text/plain": [
       "<IPython.core.display.HTML object>"
      ]
     },
     "metadata": {},
     "output_type": "display_data"
    }
   ],
   "source": [
    "\n",
    "mmol_h2 = 2.016     # g/mol\n",
    "mmol_h2o = 18.016   # g/mol\n",
    "\n",
    "mh2_1L = rho_h2*1    # g\n",
    "mols_h2_1L = mh2_1L/mmol_h2\n",
    "\n",
    "mols_h2o = 2*mols_h2_1L\n",
    "mh2o_1L = mmol_h2o * mols_h2o   # water mass to produce 1L H2\n",
    "vh2o_1L = mh2o_1L/rho_h2o       # volume of water to produce 1L H2\n",
    "\n",
    "#print(\"mols_h2o={:.3f}, mh2o_1L={:.3f}\".format(mols_h2o, mh2o_1L))\n",
    "print('{:.3f}mL H2O required to produce 1L H2'.format(vh2o_1L*1000))\n",
    "\n",
    "mols_e = 2*mols_h2_1L\n",
    "mols_per_C = 1.036e-5\n",
    "I_dc = np.linspace(1,10,10)     # current supplied in A\n",
    "mols_e_per_sec = I_dc*mols_per_C\n",
    "\n",
    "T_1L = mols_e / mols_e_per_sec\n",
    "\n",
    "electrolysis_table = np.zeros((len(I_dc), 3))\n",
    "electrolysis_table[:,0] = I_dc\n",
    "electrolysis_table[:,1] = T_1L/60\n",
    "electrolysis_table[:,2] = 90*T_1L/60/60\n",
    "display(HTML(tabulate.tabulate(electrolysis_table, headers=[\"I_DC (A)\", \"T_1L (min)\", \"T_90L (hrs)\"], floatfmt=\".3f\", tablefmt='html')))\n"
   ]
  },
  {
   "cell_type": "markdown",
   "metadata": {},
   "source": [
    "#### Conclusions/Notes\n",
    "* Production is slow (24 hrs/80L balloon)\n",
    "* Water required is small (100mL), so container size to hold >10x volume should be around 2L\n",
    "* With good conductivity in solution, possible to reach 10A at approximately 4V (according to Nighthawkinlight): 40W"
   ]
  },
  {
   "cell_type": "markdown",
   "metadata": {},
   "source": [
    "### Aluminium and HCl or NaOH Solution\n",
    "\n",
    "#### References\n",
    "* [NighthawkInLight](https://www.youtube.com/watch?v=f-HkVlq1kcQ).\n",
    "* [Chemistry site](https://www.chemistryscl.com/reactions/aluminum+NaOH%20reaction/index.php)\n",
    "\n",
    "#### Materials\n",
    "* HCL (muriatic acid) and/or NaOH (lye)\n",
    "* Water\n",
    "* Aluminium foil\n",
    "\n",
    "#### Reaction\n",
    "* in muriatic acid: $2Al + 6HCl(aq) \\to 2AlCl_3(aq) + 3H_2(g)$\n",
    "* in aqueous $NaOH$: $2Al + 2NaOH(aq) + 2H_2O \\to 2NaAlO_2(aq) + 3H_2(g)$\n"
   ]
  },
  {
   "cell_type": "code",
   "execution_count": 7,
   "metadata": {},
   "outputs": [
    {
     "name": "stdout",
     "output_type": "stream",
     "text": [
      "10L of H2 requires 11.90g of NaOH and 8.03g Al\n"
     ]
    }
   ],
   "source": [
    "mmol_naoh = 40      # g/mol\n",
    "mmol_al = 26.98     # g/mol\n",
    "# mols_h2_1L from previous\n",
    "target_vol = 10     #L\n",
    "mass_naoh = target_vol*mols_h2_1L*(2/3)*mmol_naoh\n",
    "mass_al = target_vol*mols_h2_1L*(2/3)*mmol_al\n",
    "\n",
    "print('{}L of H2 requires {:.2f}g of NaOH and {:.2f}g Al'.format(target_vol, mass_naoh, mass_al))"
   ]
  },
  {
   "cell_type": "markdown",
   "metadata": {},
   "source": [
    "## Control System\n",
    "### Overivew\n",
    "#### Inputs\n",
    "* Barometric altitude (AGL)\n",
    "* Position (relative to origin) -- proposed inside-out camera tracking\n",
    "* Attitude (6DOF+magnetic compass)\n",
    "\n",
    "#### Outputs\n",
    "* Independent left/right motor velocity (PWM duty), forward/backwards\n",
    "* Motor tilt (+/-90deg range)\n",
    "\n",
    "### Altitude\n",
    "* Hold based on pressure (BMP280 sensor w/ averaging)\n",
    "* May be possible to do with second camera (binocular) - possible with single camera and feature identfication given calibration?\n",
    "\n",
    "### Position\n",
    "* Inside-out tracking with digial image correlation\n",
    "    * Need to calibrate pixel resolution (e.g. cm/pix) or possible with closed loop control?\n",
    "    * Need subpixel resolution (assume some windowing function)?\n",
    "\n",
    "### Attitude\n",
    "* Utility for thrust vectoring?\n",
    "* Magnetic orientation for image rotation (position tracking)\n"
   ]
  }
 ],
 "metadata": {
  "kernelspec": {
   "display_name": "Python 3.8.10 64-bit",
   "language": "python",
   "name": "python3"
  },
  "language_info": {
   "codemirror_mode": {
    "name": "ipython",
    "version": 3
   },
   "file_extension": ".py",
   "mimetype": "text/x-python",
   "name": "python",
   "nbconvert_exporter": "python",
   "pygments_lexer": "ipython3",
   "version": "3.8.10"
  },
  "orig_nbformat": 4,
  "vscode": {
   "interpreter": {
    "hash": "31f2aee4e71d21fbe5cf8b01ff0e069b9275f58929596ceb00d14d90e3e16cd6"
   }
  }
 },
 "nbformat": 4,
 "nbformat_minor": 2
}
