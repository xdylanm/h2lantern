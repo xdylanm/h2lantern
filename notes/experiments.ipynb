{
 "cells": [
  {
   "cell_type": "markdown",
   "metadata": {},
   "source": [
    "## Experiment 1 - H2 Production from NaOH\n",
    "\n",
    "17-09-2022\n",
    "\n",
    "### Materials\n",
    "* Balloon\n",
    "    * mass: 10g\n",
    "    * diameter (uninflated): 440mm \n",
    "    * approximate volume: 10L\n",
    "* NaOH: 11g\n",
    "* Al foil: 8g\n",
    "\n",
    "Expecting loss in H2, double amounts of NaOH & Al.\n",
    "\n",
    "### Procedure\n",
    "The procedure is outlined in NightHawkInLight's video [How to Make Hydrogen Gas - Clean Burning, Inexpensive, Lighter than Air!](https://www.youtube.com/watch?v=f-HkVlq1kcQ). The chemistry reference is [here](https://www.chemistryscl.com/reactions/aluminum+NaOH%20reaction/index.php)\n",
    "\n",
    "* Fill water jug (bubbler) with water; leave 3cm air at top\n",
    "* Fill flask with 500mL warm water\n",
    "* Add 22g NaOH and disolve\n",
    "* Add 1-2g crumpled sheets of Al \n",
    "* Collect gas in balloon\n",
    "\n",
    "### Observations\n",
    "* With 2x NaOH mass, there was sufficient H2 production to also partially inflate a small grocery bag (a few L)\n",
    "    * the reaction was slowing substantially towards the end, estimate 1.5x mass required next time\n",
    "* Approximate rate of production was 10L in 45 minutes\n",
    "* Add 1-2g of Al at a time and monitor temperature (reaction is exothermic)\n",
    "    * adding Al requires removing the stopper from the flask, which likely mixes air in with the H2\n",
    "* Filled balloon (10g) was buoyant with 10cm attached string using approximately 10L of H2 (10L should give 12g lift)\n",
    "    * balloon filled to taught (lightly pressurized) lost some gas within a few minutes of disconnecting the feed and would yield easily when poked\n",
    "    * filled balloon has dimensions of approximately 32cm diameter and 12.5cm height (approx 10L -- it's not a perfect cylinder)\n"
   ]
  },
  {
   "cell_type": "code",
   "execution_count": 4,
   "metadata": {},
   "outputs": [
    {
     "name": "stdout",
     "output_type": "stream",
     "text": [
      "10.053096491487338\n"
     ]
    }
   ],
   "source": [
    "import numpy as np\n",
    "\n",
    "A_infl = np.pi*16**2\n",
    "h_infl = 12.5\n",
    "\n",
    "vol = h_infl*A_infl/1000 # L\n",
    "print(vol)"
   ]
  }
 ],
 "metadata": {
  "kernelspec": {
   "display_name": "Python 3.8.10 64-bit",
   "language": "python",
   "name": "python3"
  },
  "language_info": {
   "codemirror_mode": {
    "name": "ipython",
    "version": 3
   },
   "file_extension": ".py",
   "mimetype": "text/x-python",
   "name": "python",
   "nbconvert_exporter": "python",
   "pygments_lexer": "ipython3",
   "version": "3.8.10"
  },
  "orig_nbformat": 4,
  "vscode": {
   "interpreter": {
    "hash": "31f2aee4e71d21fbe5cf8b01ff0e069b9275f58929596ceb00d14d90e3e16cd6"
   }
  }
 },
 "nbformat": 4,
 "nbformat_minor": 2
}
